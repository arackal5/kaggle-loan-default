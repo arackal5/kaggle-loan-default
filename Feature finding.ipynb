{
 "metadata": {
  "name": ""
 },
 "nbformat": 3,
 "nbformat_minor": 0,
 "worksheets": [
  {
   "cells": [
    {
     "cell_type": "code",
     "collapsed": false,
     "input": [
      "from __future__ import division\n",
      "import gc\n",
      "import itertools\n",
      "from sklearn.cross_validation import StratifiedKFold\n",
      "from sklearn.ensemble import RandomForestClassifier, RandomForestRegressor\n",
      "from sklearn import preprocessing\n",
      "from sklearn.externals.joblib import Parallel, delayed\n",
      "from sklearn.grid_search import GridSearchCV\n",
      "from sklearn.linear_model import LogisticRegression\n",
      "from sklearn.metrics import roc_auc_score, roc_curve, precision_recall_curve, mean_absolute_error, \\\n",
      "    average_precision_score\n",
      "from sklearn.pipeline import Pipeline\n",
      "from sklearn.preprocessing import StandardScaler, Imputer, OneHotEncoder, MinMaxScaler\n",
      "import classes\n",
      "from classes import plot\n",
      "import numpy as np\n",
      "import pandas as pd\n",
      "from classes import logger\n",
      "from constants import *\n",
      "import matplotlib.pylab as pl\n",
      "from run import cv_for_column"
     ],
     "language": "python",
     "metadata": {},
     "outputs": [],
     "prompt_number": 19
    },
    {
     "cell_type": "code",
     "collapsed": false,
     "input": [
      "    top_aucs = [(['f271', 'x1', 'x2', 'x3'], 0.96596540197049252),\n",
      "                (['f272', 'x1', 'x2', 'x3'], 0.95426555114415146),\n",
      "                (['f2', 'x1', 'x2', 'x3'], 0.9540027948761759),\n",
      "                (['f332', 'x1', 'x2', 'x3'], 0.94664438110460902),\n",
      "                (['f653', 'x1', 'x2', 'x3'], 0.94637495753995871),\n",
      "                (['f663', 'x1', 'x2', 'x3'], 0.94596631570439571),\n",
      "                (['f662', 'x1', 'x2', 'x3'], 0.94544689548411753),\n",
      "                (['f664', 'x1', 'x2', 'x3'], 0.94541053031782663),]\n",
      "\n",
      "    top_f1s = [(['f2', 'x1', 'x2', 'x3'], 0.80216366357303381),\n",
      "               (['f334', 'x1', 'x2', 'x3'], 0.79656960445709735),\n",
      "               (['f332', 'x1', 'x2', 'x3'], 0.77835392697909056),\n",
      "               (['f339', 'x1', 'x2', 'x3'], 0.77740108790866924),\n",
      "               (['f653', 'x1', 'x2', 'x3'], 0.77022939336696961),\n",
      "               (['f663', 'x1', 'x2', 'x3'], 0.76845186886716743),\n",
      "               (['f662', 'x1', 'x2', 'x3'], 0.76691477794164897),\n",
      "               (['f271', 'x1', 'x2', 'x3'], 0.76594462112992689),\n",
      "               (['f664', 'x1', 'x2', 'x3'], 0.75894687161576058),\n",
      "               (['f515', 'x1', 'x2', 'x3'], 0.75654901277865938),\n",
      "               (['f592', 'x1', 'x2', 'x3'], 0.75650452834130966),\n",
      "               (['f591', 'x1', 'x2', 'x3'], 0.75635470273598071),\n",
      "               (['f333', 'x1', 'x2', 'x3'], 0.75348589580324765),\n",
      "               (['f421', 'x1', 'x2', 'x3'], 0.75099989992752414),\n",
      "               (['f335', 'x1', 'x2', 'x3'], 0.74822631517846505),\n",
      "               (['f415', 'x1', 'x2', 'x3'], 0.7481089001789798),\n",
      "               (['f382', 'x1', 'x2', 'x3'], 0.7479311252088291),\n",
      "               (['f292', 'x1', 'x2', 'x3'], 0.74695847054866993),\n",
      "               (['f203', 'x1', 'x2', 'x3'], 0.74658797834693069),\n",
      "               (['f336', 'x1', 'x2', 'x3'], 0.74645319772500729),\n",
      "               (['f593', 'x1', 'x2', 'x3'], 0.74645298377337799),\n",
      "               (['f414', 'x1', 'x2', 'x3'], 0.74467419414594205),]\n",
      "\n",
      "    top_maes = [(['f416', 'x1', 'x2', 'x3'], 0.76137409103963971),\n",
      "                (['f593', 'x1', 'x2', 'x3'], 0.76087162836817646),\n",
      "                (['f333', 'x1', 'x2', 'x3'], 0.76083367861963502),\n",
      "                (['f414', 'x1', 'x2', 'x3'], 0.76033117819170037),\n",
      "                (['f335', 'x1', 'x2', 'x3'], 0.75971484649741361),\n",
      "                (['f415', 'x1', 'x2', 'x3'], 0.75962952900813407),\n",
      "                (['f591', 'x1', 'x2', 'x3'], 0.75934517243678257),\n",
      "                (['f271', 'x1', 'x2', 'x3'], 0.75931667933587321),\n",
      "                (['f664', 'x1', 'x2', 'x3'], 0.75922196453055946),\n",
      "                (['f421', 'x1', 'x2', 'x3'], 0.7590037829175047),\n",
      "                (['f592', 'x1', 'x2', 'x3'], 0.75834016169231344),\n",
      "                (['f515', 'x1', 'x2', 'x3'], 0.75799884229219672),\n",
      "                (['f662', 'x1', 'x2', 'x3'], 0.75698438299076809),\n",
      "                (['f663', 'x1', 'x2', 'x3'], 0.75657669265828909),\n",
      "                (['f653', 'x1', 'x2', 'x3'], 0.75561908830999314),\n",
      "                (['f339', 'x1', 'x2', 'x3'], 0.75354257722549645),\n",
      "                (['f332', 'x1', 'x2', 'x3'], 0.75351413896136699),\n",
      "                (['f334', 'x1', 'x2', 'x3'], 0.7484795521794827),\n",
      "                (['f2', 'x1', 'x2', 'x3'], 0.74550234383971203)]\n",
      "    \n",
      "    features_to_try = set()\n",
      "    for f, s in itertools.chain(top_f1s, top_aucs, top_maes):\n",
      "        features_to_try.add(f[0])"
     ],
     "language": "python",
     "metadata": {},
     "outputs": [],
     "prompt_number": 12
    },
    {
     "cell_type": "code",
     "collapsed": false,
     "input": [
      "    x, y = classes.get_train_data()\n",
      "    y_default = y > 0"
     ],
     "language": "python",
     "metadata": {},
     "outputs": [],
     "prompt_number": 13
    },
    {
     "cell_type": "code",
     "collapsed": false,
     "input": [
      "    feature_combos = list(itertools.combinations(features_to_try, 2))\n",
      "    len(feature_combos)"
     ],
     "language": "python",
     "metadata": {},
     "outputs": [
      {
       "metadata": {},
       "output_type": "pyout",
       "prompt_number": 15,
       "text": [
        "276"
       ]
      }
     ],
     "prompt_number": 15
    },
    {
     "cell_type": "code",
     "collapsed": false,
     "input": [
      "    results = []\n",
      "    for i, c in enumerate(feature_combos):\n",
      "        if i % 100 == 0:\n",
      "            logger.info(\"{} columns scanned\".format(i))\n",
      "        df = pd.DataFrame({\n",
      "            'x1': x['f527'] - x['f528'],\n",
      "            'x2': x['f274'] - x['f528'],\n",
      "            'x3': x['f274'] - x['f527'],\n",
      "        })\n",
      "        for cc in c:\n",
      "            df[cc] = x[cc]\n",
      "\n",
      "        res = cv_for_column(df, y_default, df.columns.tolist(), y)\n",
      "        results.append(res)"
     ],
     "language": "python",
     "metadata": {},
     "outputs": [
      {
       "output_type": "stream",
       "stream": "stderr",
       "text": [
        "2014-03-03 20:48:28 - <ipython-input-20-8271f2728c02> - INFO - 0 columns scanned\n"
       ]
      },
      {
       "output_type": "stream",
       "stream": "stderr",
       "text": [
        "INFO:loan_default:0 columns scanned\n"
       ]
      },
      {
       "output_type": "stream",
       "stream": "stderr",
       "text": [
        "2014-03-03 20:51:29 - <ipython-input-20-8271f2728c02> - INFO - 100 columns scanned\n"
       ]
      },
      {
       "output_type": "stream",
       "stream": "stderr",
       "text": [
        "INFO:loan_default:100 columns scanned\n"
       ]
      },
      {
       "output_type": "stream",
       "stream": "stderr",
       "text": [
        "2014-03-03 20:54:25 - <ipython-input-20-8271f2728c02> - INFO - 200 columns scanned\n"
       ]
      },
      {
       "output_type": "stream",
       "stream": "stderr",
       "text": [
        "INFO:loan_default:200 columns scanned\n"
       ]
      }
     ],
     "prompt_number": 20
    },
    {
     "cell_type": "code",
     "collapsed": false,
     "input": [
      "    f1s = sorted([(xx['column'], sum(xx['f1']) / 5.0) for xx in results], key=lambda l: l[1], reverse=True)\n",
      "    aucs = sorted([(xx['column'], sum(xx['auc']) / 5.0) for xx in results], key=lambda l: l[1], reverse=True)\n",
      "    maes = sorted([(xx['column'], sum(xx['mae']) / 5.0) for xx in results], key=lambda l: l[1], reverse=True)"
     ],
     "language": "python",
     "metadata": {},
     "outputs": [],
     "prompt_number": 21
    },
    {
     "cell_type": "code",
     "collapsed": false,
     "input": [
      "    top_f1s = [(['x1', 'x2', 'x3', 'f2', 'f271'], 0.83664211140524336),\n",
      "               (['x1', 'x2', 'x3', 'f2', 'f334'], 0.8338394582594979),\n",
      "               (['x1', 'x2', 'x3', 'f271', 'f334'], 0.83352335346431372),\n",
      "               (['x1', 'x2', 'x3', 'f2', 'f332'], 0.82789188360097898),\n",
      "               (['x1', 'x2', 'x3', 'f2', 'f339'], 0.82347754715396559),\n",
      "               (['x1', 'x2', 'x3', 'f2', 'f336'], 0.81536808736743982),\n",
      "               (['x1', 'x2', 'x3', 'f271', 'f332'], 0.81350669338826087),\n",
      "               (['x1', 'x2', 'x3', 'f2', 'f333'], 0.81291181759631037),\n",
      "               (['x1', 'x2', 'x3', 'f271', 'f339'], 0.81213997680930528),]\n",
      "\n",
      "    top_aucs = [(['x1', 'x2', 'x3', 'f2', 'f271'], 0.97583053891996863),\n",
      "                (['x1', 'x2', 'x3', 'f271', 'f332'], 0.96891244134197341),\n",
      "                (['x1', 'x2', 'x3', 'f271', 'f333'], 0.96669692701350995),\n",
      "                (['x1', 'x2', 'x3', 'f271', 'f336'], 0.96636328436194674),\n",
      "                (['x1', 'x2', 'x3', 'f271', 'f653'], 0.96562007396275396),\n",
      "                (['x1', 'x2', 'x3', 'f663', 'f271'], 0.9653528712371674),\n",
      "                (['x1', 'x2', 'x3', 'f662', 'f271'], 0.96485847907280176),\n",
      "                (['x1', 'x2', 'x3', 'f664', 'f271'], 0.96482521225940376),\n",
      "                (['x1', 'x2', 'x3', 'f271', 'f272'], 0.96419521964526711),\n",
      "                (['x1', 'x2', 'x3', 'f271', 'f292'], 0.96402939212310446),\n",
      "                (['x1', 'x2', 'x3', 'f271', 'f334'], 0.9628283654672154),\n",
      "                (['x1', 'x2', 'x3', 'f203', 'f271'], 0.96078837587910892),\n",
      "                (['x1', 'x2', 'x3', 'f382', 'f271'], 0.96053868399183406),]"
     ],
     "language": "python",
     "metadata": {},
     "outputs": [],
     "prompt_number": 44
    },
    {
     "cell_type": "code",
     "collapsed": false,
     "input": [
      "    features_to_try = set()\n",
      "    for f, s in itertools.chain(top_f1s, top_aucs):\n",
      "        features_to_try.add(f[-1])\n",
      "        features_to_try.add(f[-2])\n",
      "\n",
      "    feature_combos = [xx for xx in list(itertools.combinations(features_to_try, 3)) if 'f2' in xx or 'f271' in xx]\n",
      "    len(feature_combos)"
     ],
     "language": "python",
     "metadata": {},
     "outputs": [
      {
       "metadata": {},
       "output_type": "pyout",
       "prompt_number": 47,
       "text": [
        "169"
       ]
      }
     ],
     "prompt_number": 47
    },
    {
     "cell_type": "code",
     "collapsed": false,
     "input": [
      "    results = []\n",
      "    for i, c in enumerate(feature_combos):\n",
      "        if i % 50 == 0:\n",
      "            logger.info(\"{} feature combos tried\".format(i))\n",
      "        df = pd.DataFrame({\n",
      "            'x1': x['f527'] - x['f528'],\n",
      "            'x2': x['f274'] - x['f528'],\n",
      "            'x3': x['f274'] - x['f527'],\n",
      "        })\n",
      "        for cc in c:\n",
      "            df[cc] = x[cc]\n",
      "\n",
      "        res = cv_for_column(df, y_default, df.columns.tolist(), y)\n",
      "        results.append(res)\n",
      "\n",
      "    f1s = sorted([(xx['column'], sum(xx['f1']) / 5.0) for xx in results], key=lambda l: l[1], reverse=True)\n",
      "    aucs = sorted([(xx['column'], sum(xx['auc']) / 5.0) for xx in results], key=lambda l: l[1], reverse=True)\n",
      "    maes = sorted([(xx['column'], sum(xx['mae']) / 5.0) for xx in results], key=lambda l: l[1], reverse=True)"
     ],
     "language": "python",
     "metadata": {},
     "outputs": [
      {
       "output_type": "stream",
       "stream": "stderr",
       "text": [
        "2014-03-03 21:10:30 - <ipython-input-48-43bc3fe3ffd2> - INFO - 0 feature combos tried\n"
       ]
      },
      {
       "output_type": "stream",
       "stream": "stderr",
       "text": [
        "INFO:loan_default:0 feature combos tried\n"
       ]
      },
      {
       "output_type": "stream",
       "stream": "stderr",
       "text": [
        "2014-03-03 21:12:36 - <ipython-input-48-43bc3fe3ffd2> - INFO - 50 feature combos tried\n"
       ]
      },
      {
       "output_type": "stream",
       "stream": "stderr",
       "text": [
        "INFO:loan_default:50 feature combos tried\n"
       ]
      },
      {
       "output_type": "stream",
       "stream": "stderr",
       "text": [
        "2014-03-03 21:14:26 - <ipython-input-48-43bc3fe3ffd2> - INFO - 100 feature combos tried\n"
       ]
      },
      {
       "output_type": "stream",
       "stream": "stderr",
       "text": [
        "INFO:loan_default:100 feature combos tried\n"
       ]
      },
      {
       "output_type": "stream",
       "stream": "stderr",
       "text": [
        "2014-03-03 21:16:30 - <ipython-input-48-43bc3fe3ffd2> - INFO - 150 feature combos tried\n"
       ]
      },
      {
       "output_type": "stream",
       "stream": "stderr",
       "text": [
        "INFO:loan_default:150 feature combos tried\n"
       ]
      }
     ],
     "prompt_number": 48
    },
    {
     "cell_type": "code",
     "collapsed": false,
     "input": [
      "    top_aucs = [(['x1', 'x2', 'x3', 'f2', 'f336', 'f271'], 0.97833825804011487),\n",
      "                (['x1', 'x2', 'x3', 'f2', 'f333', 'f271'], 0.97660587107133223),\n",
      "                (['x1', 'x2', 'x3', 'f2', 'f332', 'f271'], 0.97656749806701859),\n",
      "                (['x1', 'x2', 'x3', 'f2', 'f271', 'f664'], 0.97651937074068118),\n",
      "                (['x1', 'x2', 'x3', 'f2', 'f203', 'f271'], 0.97597295306085652),\n",
      "                (['x1', 'x2', 'x3', 'f2', 'f271', 'f272'], 0.9756148046008839),\n",
      "                (['x1', 'x2', 'x3', 'f2', 'f382', 'f271'], 0.97551995460600427),\n",
      "                (['x1', 'x2', 'x3', 'f2', 'f271', 'f653'], 0.97548216907596186),\n",
      "                (['x1', 'x2', 'x3', 'f2', 'f271', 'f662'], 0.97541550519150599),\n",
      "                (['x1', 'x2', 'x3', 'f2', 'f271', 'f663'], 0.97500947029571938),\n",
      "                (['x1', 'x2', 'x3', 'f2', 'f271', 'f292'], 0.97384100227160919),\n",
      "                (['x1', 'x2', 'x3', 'f2', 'f339', 'f271'], 0.97265877860106564),\n",
      "                (['x1', 'x2', 'x3', 'f334', 'f2', 'f271'], 0.97254093744842418),\n",
      "                (['x1', 'x2', 'x3', 'f332', 'f336', 'f271'], 0.96951560641165513),\n",
      "                (['x1', 'x2', 'x3', 'f332', 'f333', 'f271'], 0.96914069332077357),\n",
      "                (['x1', 'x2', 'x3', 'f332', 'f271', 'f292'], 0.96896671947135116),\n",
      "                (['x1', 'x2', 'x3', 'f332', 'f271', 'f272'], 0.96896141064789598),\n",
      "                (['x1', 'x2', 'x3', 'f333', 'f336', 'f271'], 0.96874264140167199),\n",
      "                (['x1', 'x2', 'x3', 'f332', 'f271', 'f653'], 0.96863010931541016),\n",
      "                (['x1', 'x2', 'x3', 'f332', 'f271', 'f663'], 0.9686291803193614),\n",
      "                (['x1', 'x2', 'x3', 'f332', 'f271', 'f662'], 0.96861173608473261),\n",
      "                (['x1', 'x2', 'x3', 'f332', 'f271', 'f664'], 0.96837555170111822),\n",
      "                (['x1', 'x2', 'x3', 'f332', 'f203', 'f271'], 0.96828947521920306),\n",
      "                (['x1', 'x2', 'x3', 'f336', 'f271', 'f653'], 0.96751513542535805),\n",
      "                (['x1', 'x2', 'x3', 'f336', 'f271', 'f663'], 0.96712818418606561)]\n",
      "\n",
      "    top_f1s = [(['x1', 'x2', 'x3', 'f334', 'f2', 'f271'], 0.86853689497724051),\n",
      "               (['x1', 'x2', 'x3', 'f2', 'f332', 'f271'], 0.86192318647451727),\n",
      "               (['x1', 'x2', 'x3', 'f2', 'f339', 'f271'], 0.85801102452902589),\n",
      "               (['x1', 'x2', 'x3', 'f2', 'f336', 'f271'], 0.85249416521316301),\n",
      "               (['x1', 'x2', 'x3', 'f2', 'f333', 'f271'], 0.84963356721720784),\n",
      "               (['x1', 'x2', 'x3', 'f334', 'f271', 'f663'], 0.83873452504944412),\n",
      "               (['x1', 'x2', 'x3', 'f334', 'f271', 'f653'], 0.83864721201841141),\n",
      "               (['x1', 'x2', 'x3', 'f334', 'f271', 'f662'], 0.83856496107334466),\n",
      "               (['x1', 'x2', 'x3', 'f334', 'f271', 'f292'], 0.83801207393882904),\n",
      "               (['x1', 'x2', 'x3', 'f334', 'f2', 'f332'], 0.83717663901870121),\n",
      "               (['x1', 'x2', 'x3', 'f2', 'f203', 'f271'], 0.83684291648654519),\n",
      "               (['x1', 'x2', 'x3', 'f2', 'f271', 'f272'], 0.83683189899358423),\n",
      "               (['x1', 'x2', 'x3', 'f334', 'f332', 'f271'], 0.83644789707647038),\n",
      "               (['x1', 'x2', 'x3', 'f334', 'f2', 'f339'], 0.83581090279345993),\n",
      "               (['x1', 'x2', 'x3', 'f334', 'f2', 'f382'], 0.83526374844815332),\n",
      "               (['x1', 'x2', 'x3', 'f334', 'f339', 'f271'], 0.8349737673573131),\n",
      "               (['x1', 'x2', 'x3', 'f334', 'f2', 'f333'], 0.83487878949855521),\n",
      "               (['x1', 'x2', 'x3', 'f2', 'f382', 'f271'], 0.83483298619253055),\n",
      "               (['x1', 'x2', 'x3', 'f334', 'f271', 'f272'], 0.8342457028283794),\n",
      "               (['x1', 'x2', 'x3', 'f334', 'f2', 'f336'], 0.83368730513427436),\n",
      "               (['x1', 'x2', 'x3', 'f334', 'f333', 'f271'], 0.83312359666755786),\n",
      "               (['x1', 'x2', 'x3', 'f334', 'f203', 'f271'], 0.83286583734140274),\n",
      "               (['x1', 'x2', 'x3', 'f334', 'f382', 'f271'], 0.83284427564048469),\n",
      "               (['x1', 'x2', 'x3', 'f334', 'f271', 'f664'], 0.83272263009308123),\n",
      "               (['x1', 'x2', 'x3', 'f2', 'f332', 'f339'], 0.8316420924728265)]\n",
      "\n",
      "    # Maybe try a few diffs\n",
      "    features_to_try = set()\n",
      "    for f, s in itertools.chain(top_f1s, top_aucs):\n",
      "        features_to_try.add(f[-1])\n",
      "        features_to_try.add(f[-2])\n",
      "        features_to_try.add(f[-3])"
     ],
     "language": "python",
     "metadata": {},
     "outputs": [],
     "prompt_number": 68
    },
    {
     "cell_type": "code",
     "collapsed": false,
     "input": [
      "    features_to_try.remove('f2')\n",
      "    features_to_try.remove('f271')\n",
      "    # Only 15 features, so lets just iteratively add them till we've exhausted them all or we stop improving\n",
      "    last = 0\n",
      "    results = []\n",
      "    added_cols = []\n",
      "    while len(features_to_try) > 0:\n",
      "        logger.info(\"Starting search with {} features to try\".format(len(features_to_try)))\n",
      "        best_col = ''\n",
      "        for i, c in enumerate(features_to_try):\n",
      "            df = pd.DataFrame({\n",
      "                'x1': x['f527'] - x['f528'],\n",
      "                'x2': x['f274'] - x['f528'],\n",
      "                'x3': x['f274'] - x['f527'],\n",
      "                'f2': x['f2'],  # Should maybe expand this?\n",
      "                'f271': x['f271'],\n",
      "                c: x[c]\n",
      "            })\n",
      "            for col in added_cols:\n",
      "                df[col] = x[col]\n",
      "\n",
      "            res = cv_for_column(df, y_default, df.columns.tolist(), y)\n",
      "            res_f1 = sum(res['f1']) / 5.0\n",
      "            if res_f1 > last:\n",
      "                last = res_f1\n",
      "                best_col = c\n",
      "                best_res = res\n",
      "\n",
      "        if best_col != '':\n",
      "            logger.info(\"Adding {}\".format(best_col))\n",
      "            results.append(best_res)\n",
      "            added_cols.append(best_col)\n",
      "            features_to_try.remove(best_col)\n",
      "\n"
     ],
     "language": "python",
     "metadata": {},
     "outputs": [
      {
       "output_type": "stream",
       "stream": "stderr",
       "text": [
        "2014-03-03 21:47:20 - <ipython-input-69-d6c9baa80c05> - INFO - Starting search with 13 features to try\n"
       ]
      },
      {
       "output_type": "stream",
       "stream": "stderr",
       "text": [
        "INFO:loan_default:Starting search with 13 features to try\n"
       ]
      },
      {
       "output_type": "stream",
       "stream": "stderr",
       "text": [
        "2014-03-03 21:47:53 - <ipython-input-69-d6c9baa80c05> - INFO - Adding f334\n"
       ]
      },
      {
       "output_type": "stream",
       "stream": "stderr",
       "text": [
        "INFO:loan_default:Adding f334\n"
       ]
      },
      {
       "output_type": "stream",
       "stream": "stderr",
       "text": [
        "2014-03-03 21:47:53 - <ipython-input-69-d6c9baa80c05> - INFO - Starting search with 12 features to try\n"
       ]
      },
      {
       "output_type": "stream",
       "stream": "stderr",
       "text": [
        "INFO:loan_default:Starting search with 12 features to try\n"
       ]
      }
     ],
     "prompt_number": "*"
    },
    {
     "cell_type": "code",
     "collapsed": false,
     "input": [],
     "language": "python",
     "metadata": {},
     "outputs": []
    }
   ],
   "metadata": {}
  }
 ]
}